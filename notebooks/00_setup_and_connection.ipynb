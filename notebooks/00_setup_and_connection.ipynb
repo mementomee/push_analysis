{
 "cells": [
  {
   "cell_type": "code",
   "execution_count": 8,
   "id": "75e83967",
   "metadata": {},
   "outputs": [
    {
     "ename": "ModuleNotFoundError",
     "evalue": "No module named 'src.database_config'",
     "output_type": "error",
     "traceback": [
      "\u001b[31m---------------------------------------------------------------------------\u001b[39m",
      "\u001b[31mModuleNotFoundError\u001b[39m                       Traceback (most recent call last)",
      "\u001b[36mCell\u001b[39m\u001b[36m \u001b[39m\u001b[32mIn[8]\u001b[39m\u001b[32m, line 7\u001b[39m\n\u001b[32m      5\u001b[39m \u001b[38;5;28;01mimport\u001b[39;00m\u001b[38;5;250m \u001b[39m\u001b[34;01mpandas\u001b[39;00m\u001b[38;5;250m \u001b[39m\u001b[38;5;28;01mas\u001b[39;00m\u001b[38;5;250m \u001b[39m\u001b[34;01mpd\u001b[39;00m\n\u001b[32m      6\u001b[39m \u001b[38;5;28;01mimport\u001b[39;00m\u001b[38;5;250m \u001b[39m\u001b[34;01mlogging\u001b[39;00m\n\u001b[32m----> \u001b[39m\u001b[32m7\u001b[39m \u001b[38;5;28;01mfrom\u001b[39;00m\u001b[38;5;250m \u001b[39m\u001b[34;01msrc\u001b[39;00m\u001b[34;01m.\u001b[39;00m\u001b[34;01mdatabase\u001b[39;00m\u001b[38;5;250m \u001b[39m\u001b[38;5;28;01mimport\u001b[39;00m PushDatabase\n\u001b[32m      8\u001b[39m \u001b[38;5;28;01mfrom\u001b[39;00m\u001b[38;5;250m \u001b[39m\u001b[34;01msrc\u001b[39;00m\u001b[34;01m.\u001b[39;00m\u001b[34;01mdata_loader\u001b[39;00m\u001b[38;5;250m \u001b[39m\u001b[38;5;28;01mimport\u001b[39;00m DataLoader\n\u001b[32m      9\u001b[39m \u001b[38;5;28;01mfrom\u001b[39;00m\u001b[38;5;250m \u001b[39m\u001b[34;01mconfig\u001b[39;00m\u001b[34;01m.\u001b[39;00m\u001b[34;01mconstants\u001b[39;00m\u001b[38;5;250m \u001b[39m\u001b[38;5;28;01mimport\u001b[39;00m *\n",
      "\u001b[36mFile \u001b[39m\u001b[32mc:\\Users\\Nazar\\push_analysis\\notebooks\\..\\src\\__init__.py:6\u001b[39m\n\u001b[32m      1\u001b[39m \u001b[38;5;66;03m# config/__init__.py\u001b[39;00m\n\u001b[32m      2\u001b[39m \u001b[33;03m\"\"\"\u001b[39;00m\n\u001b[32m      3\u001b[39m \u001b[33;03mКонфігураційні модулі для push-аналізу\u001b[39;00m\n\u001b[32m      4\u001b[39m \u001b[33;03m\"\"\"\u001b[39;00m\n\u001b[32m----> \u001b[39m\u001b[32m6\u001b[39m \u001b[38;5;28;01mfrom\u001b[39;00m\u001b[38;5;250m \u001b[39m\u001b[34;01m.\u001b[39;00m\u001b[34;01mdatabase_config\u001b[39;00m\u001b[38;5;250m \u001b[39m\u001b[38;5;28;01mimport\u001b[39;00m DatabaseManager\n\u001b[32m      7\u001b[39m \u001b[38;5;28;01mfrom\u001b[39;00m\u001b[38;5;250m \u001b[39m\u001b[34;01m.\u001b[39;00m\u001b[34;01mconstants\u001b[39;00m\u001b[38;5;250m \u001b[39m\u001b[38;5;28;01mimport\u001b[39;00m *\n\u001b[32m      9\u001b[39m __all__ = [\n\u001b[32m     10\u001b[39m     \u001b[33m'\u001b[39m\u001b[33mDatabaseManager\u001b[39m\u001b[33m'\u001b[39m, \n\u001b[32m     11\u001b[39m     \u001b[33m'\u001b[39m\u001b[33mPUSH_START_DATE\u001b[39m\u001b[33m'\u001b[39m, \n\u001b[32m   (...)\u001b[39m\u001b[32m     14\u001b[39m     \u001b[33m'\u001b[39m\u001b[33mget_country_tier\u001b[39m\u001b[33m'\u001b[39m\n\u001b[32m     15\u001b[39m ]\n",
      "\u001b[31mModuleNotFoundError\u001b[39m: No module named 'src.database_config'"
     ]
    }
   ],
   "source": [
    "import sys\n",
    "import os\n",
    "sys.path.append(os.path.abspath('..'))\n",
    "\n",
    "import pandas as pd\n",
    "import logging\n",
    "from src.database import PushDatabase\n",
    "from src.data_loader import DataLoader\n",
    "from config.constants import *\n",
    "\n",
    "# Налаштування логування\n",
    "logging.basicConfig(level=logging.INFO, format='%(asctime)s - %(levelname)s - %(message)s')\n",
    "\n",
    "print(\"🚀 Тестування системи аналізу push-сповіщень\")\n",
    "print(\"=\" * 50)"
   ]
  },
  {
   "cell_type": "markdown",
   "id": "848042e5",
   "metadata": {},
   "source": [
    "**КРОК 1: Перевірка підключень**"
   ]
  },
  {
   "cell_type": "code",
   "execution_count": 3,
   "id": "0ba922a0",
   "metadata": {},
   "outputs": [
    {
     "name": "stdout",
     "output_type": "stream",
     "text": [
      "\n",
      "🔗 КРОК 1: ПЕРЕВІРКА ПІДКЛЮЧЕНЬ\n",
      "----------------------------------------\n",
      "🔍 Тестування підключень...\n",
      "✅ Підключено до statistic\n",
      "✅ Statistic: [(1,)]\n",
      "✅ Підключено до keitaro\n",
      "✅ Keitaro: [(1,)]\n"
     ]
    }
   ],
   "source": [
    "print(\"\\n🔗 КРОК 1: ПЕРЕВІРКА ПІДКЛЮЧЕНЬ\")\n",
    "print(\"-\" * 40)\n",
    "\n",
    "db = DatabaseManager()\n",
    "db.test_connections()"
   ]
  },
  {
   "cell_type": "markdown",
   "id": "b5ee2b52",
   "metadata": {},
   "source": [
    "**КРОК 2: Базова перевірка структури БД**"
   ]
  },
  {
   "cell_type": "code",
   "execution_count": 4,
   "id": "66e521f4",
   "metadata": {},
   "outputs": [
    {
     "name": "stdout",
     "output_type": "stream",
     "text": [
      "\n",
      "🏗️ КРОК 2: СТРУКТУРА БАЗ ДАНИХ\n",
      "----------------------------------------\n",
      "\n",
      "📱 STATISTIC DB - Структура таблиць:\n",
      "Таблиці: ['device', 'device_with_date', 'event', 'event_backup', 'event_metrics_daily_aggregated', 'event_metrics_mv', 'event_trigger', 'postback_open', 'postback_open_with_date', 'temp_device', 'temp_event', 'temp_event_trigger', 'temp_postback_open']\n",
      "\n",
      "📋 Структура таблиці EVENT:\n",
      "              name            type\n",
      "0               id            UUID\n",
      "1        device_id  Nullable(UUID)\n",
      "2       event_type           Int16\n",
      "3   application_id           Int32\n",
      "4             type            Int8\n",
      "5       created_at        DateTime\n",
      "6           fbclid          String\n",
      "7            sub_1           Int32\n",
      "8            sub_2          String\n",
      "9            sub_3          String\n",
      "10           sub_4           Int32\n",
      "11           sub_5          String\n",
      "12           sub_6           Int32\n",
      "13           sub_7          UInt64\n",
      "\n",
      "💰 KEITARO DB - Структура таблиць:\n",
      "Таблиці: ['keitaro_affiliate_networks', 'keitaro_audit_log_entries', 'keitaro_campaigns', 'keitaro_clicks', 'keitaro_conversions', 'keitaro_domains', 'keitaro_groups', 'keitaro_landings', 'keitaro_offers', 'keitaro_streams', 'keitaro_traffic_sources', 'keitaro_users', 'schema_migrations']\n",
      "\n",
      "📋 Структура таблиці KEITARO_CLICKS:\n",
      "              name           type\n",
      "0         click_id           UUID\n",
      "1         date_key           Date\n",
      "2         datetime       DateTime\n",
      "3           sub_id         String\n",
      "4     visitor_code         String\n",
      "..             ...            ...\n",
      "95       sub_id_27         String\n",
      "96       sub_id_28         String\n",
      "97       sub_id_29         String\n",
      "98       sub_id_30         String\n",
      "99  parent_sub_ids  Array(String)\n",
      "\n",
      "[100 rows x 2 columns]\n"
     ]
    }
   ],
   "source": [
    "print(\"\\n🏗️ КРОК 2: СТРУКТУРА БАЗ ДАНИХ\")\n",
    "print(\"-\" * 40)\n",
    "\n",
    "# Statistic DB\n",
    "print(\"\\n📱 STATISTIC DB - Структура таблиць:\")\n",
    "try:\n",
    "    stat_client = db.connect_statistic()\n",
    "    tables = db.query_to_df(stat_client, \"SHOW TABLES\")\n",
    "    print(f\"Таблиці: {tables['name'].tolist()}\")\n",
    "    \n",
    "    # Перевірити структуру event\n",
    "    event_structure = db.query_to_df(stat_client, \"DESCRIBE TABLE event\")\n",
    "    print(f\"\\n📋 Структура таблиці EVENT:\")\n",
    "    print(event_structure[['name', 'type']])\n",
    "    \n",
    "except Exception as e:\n",
    "    print(f\"❌ Помилка: {e}\")\n",
    "\n",
    "# Keitaro DB  \n",
    "print(\"\\n💰 KEITARO DB - Структура таблиць:\")\n",
    "try:\n",
    "    keitaro_client = db.connect_keitaro()\n",
    "    tables = db.query_to_df(keitaro_client, \"SHOW TABLES\")\n",
    "    print(f\"Таблиці: {tables['name'].tolist()}\")\n",
    "    \n",
    "    # Перевірити структуру keitaro_clicks\n",
    "    clicks_structure = db.query_to_df(keitaro_client, \"DESCRIBE TABLE keitaro_clicks\")\n",
    "    print(f\"\\n📋 Структура таблиці KEITARO_CLICKS:\")\n",
    "    print(clicks_structure[['name', 'type']])\n",
    "    \n",
    "except Exception as e:\n",
    "    print(f\"❌ Помилка: {e}\")"
   ]
  },
  {
   "cell_type": "markdown",
   "id": "250ec1e1",
   "metadata": {},
   "source": [
    " **КРОК 3:Швидка перевірка даних за період**"
   ]
  },
  {
   "cell_type": "code",
   "execution_count": 5,
   "id": "a979e151",
   "metadata": {},
   "outputs": [
    {
     "name": "stdout",
     "output_type": "stream",
     "text": [
      "\n",
      "📊 КРОК 3: ПЕРЕВІРКА ДАНИХ ЗА ПЕРІОД\n",
      "----------------------------------------\n",
      "\n",
      "📱 Push-и по днях (Android):\n",
      "         date  push_count\n",
      "0  2025-05-22    10476499\n",
      "1  2025-05-23    13108492\n",
      "2  2025-05-24    13248412\n",
      "3  2025-05-25    13314369\n",
      "4  2025-05-26    11694417\n",
      "5  2025-05-27    14334217\n",
      "6  2025-05-28    13388589\n",
      "7  2025-05-29    11775005\n",
      "📊 Всього push-ів за період: 101,340,000\n",
      "\n",
      "💰 Конверсії по днях:\n",
      "          date  total_clicks  deposits  registrations\n",
      "0   2025-05-22        115012      3573          23752\n",
      "1   2025-05-23        113573      3490          21622\n",
      "2   2025-05-24         97753      2609          16826\n",
      "3   2025-05-25        105055      2611          19072\n",
      "4   2025-05-26        104851      2966          18477\n",
      "5   2025-05-27        101967      2894          16491\n",
      "6   2025-05-28         99429      2545          15375\n",
      "7   2025-05-29         87826      1747          12248\n",
      "8   2025-05-30         79393      1515          10416\n",
      "9   2025-05-31         84698      1803          11956\n",
      "10  2025-06-01         83834      1722          11383\n",
      "11  2025-06-02          1276        12            154\n",
      "📊 Всього депозитів за період: 27,487\n",
      "📊 Всього реєстрацій за період: 177,772\n"
     ]
    }
   ],
   "source": [
    "print(f\"\\n📊 КРОК 3: ПЕРЕВІРКА ДАНИХ ЗА ПЕРІОД\")\n",
    "print(\"-\" * 40)\n",
    "\n",
    "# Statistic - push-и за період\n",
    "try:\n",
    "    push_count_query = f\"\"\"\n",
    "    SELECT \n",
    "        toDate(created_at) as date,\n",
    "        COUNT(*) as push_count\n",
    "    FROM event\n",
    "    WHERE event_type = {PUSH_EVENT_TYPE}\n",
    "      AND type = {ANDROID_TYPE}\n",
    "      AND toDate(created_at) >= '{PUSH_START_DATE}'\n",
    "      AND toDate(created_at) <= '{PUSH_END_DATE}'\n",
    "    GROUP BY date\n",
    "    ORDER BY date\n",
    "    \"\"\"\n",
    "    \n",
    "    push_daily = db.query_to_df(stat_client, push_count_query)\n",
    "    print(f\"\\n📱 Push-и по днях (Android):\")\n",
    "    print(push_daily)\n",
    "    \n",
    "    total_pushes = push_daily['push_count'].sum()\n",
    "    print(f\"📊 Всього push-ів за період: {total_pushes:,}\")\n",
    "    \n",
    "except Exception as e:\n",
    "    print(f\"❌ Помилка push-запиту: {e}\")\n",
    "\n",
    "# Keitaro - конверсії за період\n",
    "try:\n",
    "    conversion_count_query = f\"\"\"\n",
    "    SELECT \n",
    "        date_key as date,\n",
    "        COUNT(*) as total_clicks,\n",
    "        SUM(is_sale) as deposits,\n",
    "        SUM(is_lead) as registrations\n",
    "    FROM keitaro_clicks\n",
    "    WHERE date_key >= '{CONVERSION_START_DATE}'\n",
    "      AND date_key <= '{CONVERSION_END_DATE}'\n",
    "      AND sub_id_14 IS NOT NULL\n",
    "    GROUP BY date_key\n",
    "    ORDER BY date_key\n",
    "    \"\"\"\n",
    "    \n",
    "    conversion_daily = db.query_to_df(keitaro_client, conversion_count_query)\n",
    "    print(f\"\\n💰 Конверсії по днях:\")\n",
    "    print(conversion_daily)\n",
    "    \n",
    "    total_deposits = conversion_daily['deposits'].sum()\n",
    "    total_regs = conversion_daily['registrations'].sum()\n",
    "    print(f\"📊 Всього депозитів за період: {total_deposits:,}\")\n",
    "    print(f\"📊 Всього реєстрацій за період: {total_regs:,}\")\n",
    "    \n",
    "except Exception as e:\n",
    "    print(f\"❌ Помилка conversion-запиту: {e}\")"
   ]
  },
  {
   "cell_type": "markdown",
   "id": "1f14a5b4",
   "metadata": {},
   "source": [
    "**КРОК 4: Візуалізація щоденної активності**"
   ]
  },
  {
   "cell_type": "code",
   "execution_count": 6,
   "id": "a7fb8660",
   "metadata": {},
   "outputs": [
    {
     "name": "stdout",
     "output_type": "stream",
     "text": [
      "\n",
      "📈 КРОК 4: ВІЗУАЛІЗАЦІЯ АКТИВНОСТІ\n",
      "----------------------------------------\n"
     ]
    },
    {
     "data": {
      "image/png": "[encoded data removed]",
      "text/plain": [
       "<Figure size 1500x500 with 2 Axes>"
      ]
     },
     "metadata": {},
     "output_type": "display_data"
    },
    {
     "name": "stdout",
     "output_type": "stream",
     "text": [
      "✅ Графік збережено: outputs/charts/daily_activity.png\n"
     ]
    }
   ],
   "source": [
    "print(f\"\\n📈 КРОК 4: ВІЗУАЛІЗАЦІЯ АКТИВНОСТІ\")\n",
    "print(\"-\" * 40)\n",
    "\n",
    "try:\n",
    "    fig, axes = plt.subplots(1, 2, figsize=(15, 5))\n",
    "    \n",
    "    # Push-и по днях\n",
    "    if not push_daily.empty:\n",
    "        push_daily.plot(x='date', y='push_count', kind='bar', ax=axes[0])\n",
    "        axes[0].set_title('Push-сповіщення по днях (Android)')\n",
    "        axes[0].set_xlabel('Дата')\n",
    "        axes[0].set_ylabel('Кількість push-ів')\n",
    "        axes[0].tick_params(axis='x', rotation=45)\n",
    "    \n",
    "    # Конверсії по днях\n",
    "    if not conversion_daily.empty:\n",
    "        conversion_daily.plot(x='date', y=['deposits', 'registrations'], \n",
    "                            kind='bar', ax=axes[1])\n",
    "        axes[1].set_title('Конверсії по днях')\n",
    "        axes[1].set_xlabel('Дата')\n",
    "        axes[1].set_ylabel('Кількість')\n",
    "        axes[1].tick_params(axis='x', rotation=45)\n",
    "        axes[1].legend(['Депозити', 'Реєстрації'])\n",
    "    \n",
    "    plt.tight_layout()\n",
    "    plt.savefig('../outputs/charts/daily_activity.png', dpi=300, bbox_inches='tight')\n",
    "    plt.show()\n",
    "    \n",
    "    print(\"✅ Графік збережено: outputs/charts/daily_activity.png\")\n",
    "    \n",
    "except Exception as e:\n",
    "    print(f\"❌ Помилка візуалізації: {e}\")"
   ]
  },
  {
   "cell_type": "markdown",
   "id": "c1afe92c",
   "metadata": {},
   "source": [
    "**КРОК 5: Попередні статистики**"
   ]
  },
  {
   "cell_type": "code",
   "execution_count": 7,
   "id": "6620f166",
   "metadata": {},
   "outputs": [
    {
     "name": "stdout",
     "output_type": "stream",
     "text": [
      "\n",
      "📋 КРОК 5: ПОПЕРЕДНІ СТАТИСТИКИ\n",
      "----------------------------------------\n",
      "\n",
      "🧪 A/B групи в push-даних:\n",
      "  ab_group  unique_users  total_pushes\n",
      "0        1        619194       4913241\n",
      "1        2        621206       9644140\n",
      "2        3        620274      14158389\n",
      "3        4        620457      18512086\n",
      "4        5        622527      22735678\n",
      "5        6            13           548\n",
      "\n",
      "🌍 Топ-10 країн в push-даних:\n",
      "                             country  unique_users  total_pushes\n",
      "0                               None       1769093      44382456\n",
      "1                          Argentina        471181      10714279\n",
      "2                              India        100773       2229315\n",
      "3                              Egypt         53209       1180425\n",
      "4                         Bangladesh         40984        878651\n",
      "5                             France         36936        881233\n",
      "6                              Italy         32415        814870\n",
      "7                         Kazakhstan         27744        680484\n",
      "8  Venezuela, Bolivarian Republic of         26619        577958\n",
      "9                            Czechia         25057        598381\n",
      "\n",
      "============================================================\n",
      "✅ НАЛАШТУВАННЯ ТА ПЕРЕВІРКА ЗАВЕРШЕНА!\n",
      "🚀 Готово до переходу на EDA notebooks\n",
      "============================================================\n"
     ]
    }
   ],
   "source": [
    "print(f\"\\n📋 КРОК 5: ПОПЕРЕДНІ СТАТИСТИКИ\")\n",
    "print(\"-\" * 40)\n",
    "\n",
    "# A/B групи в push-даних\n",
    "try:\n",
    "    ab_groups_query = f\"\"\"\n",
    "    SELECT \n",
    "        d.tag as ab_group,\n",
    "        COUNT(DISTINCT d.gadid) as unique_users,\n",
    "        COUNT(*) as total_pushes\n",
    "    FROM event e\n",
    "    JOIN device d ON e.device_id = d.id\n",
    "    WHERE e.event_type = {PUSH_EVENT_TYPE}\n",
    "      AND e.type = {ANDROID_TYPE}\n",
    "      AND d.gadid IS NOT NULL\n",
    "      AND d.tag IS NOT NULL\n",
    "      AND toDate(e.created_at) >= '{PUSH_START_DATE}'\n",
    "      AND toDate(e.created_at) <= '{PUSH_END_DATE}'\n",
    "    GROUP BY d.tag\n",
    "    ORDER BY ab_group\n",
    "    \"\"\"\n",
    "    \n",
    "    ab_stats = db.query_to_df(stat_client, ab_groups_query)\n",
    "    print(f\"\\n🧪 A/B групи в push-даних:\")\n",
    "    print(ab_stats)\n",
    "    \n",
    "except Exception as e:\n",
    "    print(f\"❌ Помилка A/B запиту: {e}\")\n",
    "\n",
    "# Країни в push-даних\n",
    "try:\n",
    "    countries_query = f\"\"\"\n",
    "    SELECT \n",
    "        d.country_name as country,\n",
    "        COUNT(DISTINCT d.gadid) as unique_users,\n",
    "        COUNT(*) as total_pushes\n",
    "    FROM event e\n",
    "    JOIN device d ON e.device_id = d.id\n",
    "    WHERE e.event_type = {PUSH_EVENT_TYPE}\n",
    "      AND e.type = {ANDROID_TYPE}\n",
    "      AND d.gadid IS NOT NULL\n",
    "      AND toDate(e.created_at) >= '{PUSH_START_DATE}'\n",
    "      AND toDate(e.created_at) <= '{PUSH_END_DATE}'\n",
    "    GROUP BY d.country_name\n",
    "    ORDER BY unique_users DESC\n",
    "    LIMIT 10\n",
    "    \"\"\"\n",
    "    \n",
    "    countries_stats = db.query_to_df(stat_client, countries_query)\n",
    "    print(f\"\\n🌍 Топ-10 країн в push-даних:\")\n",
    "    print(countries_stats)\n",
    "    \n",
    "except Exception as e:\n",
    "    print(f\"❌ Помилка countries запиту: {e}\")\n",
    "\n",
    "print(\"\\n\" + \"=\" * 60)\n",
    "print(\"✅ НАЛАШТУВАННЯ ТА ПЕРЕВІРКА ЗАВЕРШЕНА!\")\n",
    "print(\"🚀 Готово до переходу на EDA notebooks\")\n",
    "print(\"=\" * 60)"
   ]
  }
 ],
 "metadata": {
  "kernelspec": {
   "display_name": "Python 3",
   "language": "python",
   "name": "python3"
  },
  "language_info": {
   "codemirror_mode": {
    "name": "ipython",
    "version": 3
   },
   "file_extension": ".py",
   "mimetype": "text/x-python",
   "name": "python",
   "nbconvert_exporter": "python",
   "pygments_lexer": "ipython3",
   "version": "3.13.5"
  }
 },
 "nbformat": 4,
 "nbformat_minor": 5
}
